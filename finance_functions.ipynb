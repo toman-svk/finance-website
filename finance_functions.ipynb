{
 "cells": [
  {
   "cell_type": "code",
   "execution_count": 3,
   "metadata": {},
   "outputs": [],
   "source": [
    "def calculate_current_ratio(current_assets, current_liabilities):\n",
    "    \"\"\"\n",
    "    Calculate the Current Ratio.\n",
    "\n",
    "    Parameters:\n",
    "        current_assets (float): The total current assets of the company.\n",
    "        current_liabilities (float): The total current liabilities of the company.\n",
    "\n",
    "    Returns:\n",
    "        float: The Current Ratio, or None if current liabilities are zero.\n",
    "    \"\"\"\n",
    "    if current_liabilities == 0:\n",
    "        return None  # Avoid division by zero\n",
    "    return current_assets / current_liabilities\n",
    "\n",
    "\n",
    "def calculate_quick_ratio(current_assets, inventory, current_liabilities):\n",
    "    \"\"\"\n",
    "    Calculate the Quick Ratio.\n",
    "\n",
    "    Parameters:\n",
    "        current_assets (float): The total current assets of the company.\n",
    "        inventory (float): The total inventory of the company.\n",
    "        current_liabilities (float): The total current liabilities of the company.\n",
    "\n",
    "    Returns:\n",
    "        float: The Quick Ratio, or None if current liabilities are zero.\n",
    "    \"\"\"\n",
    "    if current_liabilities == 0:\n",
    "        return None  # Avoid division by zero\n",
    "    return (current_assets - inventory) / current_liabilities\n",
    "\n",
    "def calculate_debt_to_equity_ratio(total_liabilities, shareholders_equity):\n",
    "    \"\"\"\n",
    "    Calculate the Debt-to-Equity Ratio.\n",
    "\n",
    "    Parameters:\n",
    "        total_liabilities (float): The total liabilities of the company.\n",
    "        shareholders_equity (float): The total shareholders' equity of the company.\n",
    "\n",
    "    Returns:\n",
    "        float: The Debt-to-Equity Ratio, or None if shareholders' equity is zero.\n",
    "    \"\"\"\n",
    "    if shareholders_equity == 0:\n",
    "        return None  # Avoid division by zero\n",
    "    return total_liabilities / shareholders_equity\n",
    "\n",
    "def calculate_working_capital(current_assets, current_liabilities):\n",
    "    \"\"\"\n",
    "    Calculate the Working Capital.\n",
    "\n",
    "    Parameters:\n",
    "        current_assets (float): The total current assets of the company.\n",
    "        current_liabilities (float): The total current liabilities of the company.\n",
    "\n",
    "    Returns:\n",
    "        float: The Working Capital.\n",
    "    \"\"\"\n",
    "    return current_assets - current_liabilities\n",
    "\n",
    "\n",
    "def calculate_bvps(shareholders_equity, preferred_equity, outstanding_shares):\n",
    "    \"\"\"\n",
    "    Calculate the Book Value per Share (BVPS).\n",
    "\n",
    "    Parameters:\n",
    "        shareholders_equity (float): The total shareholders' equity of the company.\n",
    "        preferred_equity (float): The preferred equity portion of the shareholders' equity.\n",
    "        outstanding_shares (float): The total number of outstanding common shares.\n",
    "\n",
    "    Returns:\n",
    "        float: The Book Value per Share (BVPS), or None if outstanding shares are zero.\n",
    "    \"\"\"\n",
    "    if outstanding_shares == 0:\n",
    "        return None  # Avoid division by zero\n",
    "    return (shareholders_equity - preferred_equity) / outstanding_shares"
   ]
  },
  {
   "cell_type": "code",
   "execution_count": null,
   "metadata": {},
   "outputs": [
    {
     "data": {
      "text/plain": [
       "1.0"
      ]
     },
     "execution_count": 2,
     "metadata": {},
     "output_type": "execute_result"
    }
   ],
   "source": []
  },
  {
   "cell_type": "code",
   "execution_count": null,
   "metadata": {},
   "outputs": [],
   "source": []
  }
 ],
 "metadata": {
  "kernelspec": {
   "display_name": "env_excel",
   "language": "python",
   "name": "python3"
  },
  "language_info": {
   "codemirror_mode": {
    "name": "ipython",
    "version": 3
   },
   "file_extension": ".py",
   "mimetype": "text/x-python",
   "name": "python",
   "nbconvert_exporter": "python",
   "pygments_lexer": "ipython3",
   "version": "3.11.3"
  }
 },
 "nbformat": 4,
 "nbformat_minor": 2
}
